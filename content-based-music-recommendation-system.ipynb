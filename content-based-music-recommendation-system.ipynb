{
 "cells": [
  {
   "cell_type": "code",
   "execution_count": 1,
   "id": "c984f9f9",
   "metadata": {
    "_cell_guid": "b1076dfc-b9ad-4769-8c92-a6c4dae69d19",
    "_uuid": "8f2839f25d086af736a60e9eeb907d3b93b6e0e5",
    "execution": {
     "iopub.execute_input": "2024-04-13T05:15:50.146356Z",
     "iopub.status.busy": "2024-04-13T05:15:50.145954Z",
     "iopub.status.idle": "2024-04-13T05:15:51.182515Z",
     "shell.execute_reply": "2024-04-13T05:15:51.181515Z"
    },
    "papermill": {
     "duration": 1.054872,
     "end_time": "2024-04-13T05:15:51.186733",
     "exception": false,
     "start_time": "2024-04-13T05:15:50.131861",
     "status": "completed"
    },
    "tags": []
   },
   "outputs": [
    {
     "name": "stdout",
     "output_type": "stream",
     "text": [
      "/kaggle/input/top-10000-spotify-songs-1960-now/top_10000_1960-now.csv\n"
     ]
    }
   ],
   "source": [
    "# This Python 3 environment comes with many helpful analytics libraries installed\n",
    "# It is defined by the kaggle/python Docker image: https://github.com/kaggle/docker-python\n",
    "# For example, here's several helpful packages to load\n",
    "\n",
    "import numpy as np # linear algebra\n",
    "import pandas as pd # data processing, CSV file I/O (e.g. pd.read_csv)\n",
    "\n",
    "# Input data files are available in the read-only \"../input/\" directory\n",
    "# For example, running this (by clicking run or pressing Shift+Enter) will list all files under the input directory\n",
    "\n",
    "import os\n",
    "for dirname, _, filenames in os.walk('/kaggle/input'):\n",
    "    for filename in filenames:\n",
    "        print(os.path.join(dirname, filename))\n",
    "\n",
    "# You can write up to 20GB to the current directory (/kaggle/working/) that gets preserved as output when you create a version using \"Save & Run All\" \n",
    "# You can also write temporary files to /kaggle/temp/, but they won't be saved outside of the current session"
   ]
  },
  {
   "cell_type": "code",
   "execution_count": 2,
   "id": "28ca2d03",
   "metadata": {
    "execution": {
     "iopub.execute_input": "2024-04-13T05:15:51.212647Z",
     "iopub.status.busy": "2024-04-13T05:15:51.212083Z",
     "iopub.status.idle": "2024-04-13T05:15:51.547123Z",
     "shell.execute_reply": "2024-04-13T05:15:51.545897Z"
    },
    "papermill": {
     "duration": 0.351285,
     "end_time": "2024-04-13T05:15:51.549882",
     "exception": false,
     "start_time": "2024-04-13T05:15:51.198597",
     "status": "completed"
    },
    "tags": []
   },
   "outputs": [
    {
     "data": {
      "text/html": [
       "<div>\n",
       "<style scoped>\n",
       "    .dataframe tbody tr th:only-of-type {\n",
       "        vertical-align: middle;\n",
       "    }\n",
       "\n",
       "    .dataframe tbody tr th {\n",
       "        vertical-align: top;\n",
       "    }\n",
       "\n",
       "    .dataframe thead th {\n",
       "        text-align: right;\n",
       "    }\n",
       "</style>\n",
       "<table border=\"1\" class=\"dataframe\">\n",
       "  <thead>\n",
       "    <tr style=\"text-align: right;\">\n",
       "      <th></th>\n",
       "      <th>Track URI</th>\n",
       "      <th>Track Name</th>\n",
       "      <th>Artist URI(s)</th>\n",
       "      <th>Artist Name(s)</th>\n",
       "      <th>Album URI</th>\n",
       "      <th>Album Name</th>\n",
       "      <th>Album Artist URI(s)</th>\n",
       "      <th>Album Artist Name(s)</th>\n",
       "      <th>Album Release Date</th>\n",
       "      <th>Album Image URL</th>\n",
       "      <th>...</th>\n",
       "      <th>Speechiness</th>\n",
       "      <th>Acousticness</th>\n",
       "      <th>Instrumentalness</th>\n",
       "      <th>Liveness</th>\n",
       "      <th>Valence</th>\n",
       "      <th>Tempo</th>\n",
       "      <th>Time Signature</th>\n",
       "      <th>Album Genres</th>\n",
       "      <th>Label</th>\n",
       "      <th>Copyrights</th>\n",
       "    </tr>\n",
       "  </thead>\n",
       "  <tbody>\n",
       "    <tr>\n",
       "      <th>0</th>\n",
       "      <td>spotify:track:1XAZlnVtthcDZt2NI1Dtxo</td>\n",
       "      <td>Justified &amp; Ancient - Stand by the Jams</td>\n",
       "      <td>spotify:artist:6dYrdRlNZSKaVxYg5IrvCH</td>\n",
       "      <td>The KLF</td>\n",
       "      <td>spotify:album:4MC0ZjNtVP1nDD5lsLxFjc</td>\n",
       "      <td>Songs Collection</td>\n",
       "      <td>spotify:artist:6dYrdRlNZSKaVxYg5IrvCH</td>\n",
       "      <td>The KLF</td>\n",
       "      <td>1992-08-03</td>\n",
       "      <td>https://i.scdn.co/image/ab67616d0000b27355346b...</td>\n",
       "      <td>...</td>\n",
       "      <td>0.0480</td>\n",
       "      <td>0.0158</td>\n",
       "      <td>0.112000</td>\n",
       "      <td>0.4080</td>\n",
       "      <td>0.504</td>\n",
       "      <td>111.458</td>\n",
       "      <td>4.0</td>\n",
       "      <td>NaN</td>\n",
       "      <td>Jams Communications</td>\n",
       "      <td>C 1992 Copyright Control, P 1992 Jams Communic...</td>\n",
       "    </tr>\n",
       "    <tr>\n",
       "      <th>1</th>\n",
       "      <td>spotify:track:6a8GbQIlV8HBUW3c6Uk9PH</td>\n",
       "      <td>I Know You Want Me (Calle Ocho)</td>\n",
       "      <td>spotify:artist:0TnOYISbd1XYRBk9myaseg</td>\n",
       "      <td>Pitbull</td>\n",
       "      <td>spotify:album:5xLAcbvbSAlRtPXnKkggXA</td>\n",
       "      <td>Pitbull Starring In Rebelution</td>\n",
       "      <td>spotify:artist:0TnOYISbd1XYRBk9myaseg</td>\n",
       "      <td>Pitbull</td>\n",
       "      <td>2009-10-23</td>\n",
       "      <td>https://i.scdn.co/image/ab67616d0000b27326d73a...</td>\n",
       "      <td>...</td>\n",
       "      <td>0.1490</td>\n",
       "      <td>0.0142</td>\n",
       "      <td>0.000021</td>\n",
       "      <td>0.2370</td>\n",
       "      <td>0.800</td>\n",
       "      <td>127.045</td>\n",
       "      <td>4.0</td>\n",
       "      <td>NaN</td>\n",
       "      <td>Mr.305/Polo Grounds Music/J Records</td>\n",
       "      <td>P (P) 2009 RCA/JIVE Label Group, a unit of Son...</td>\n",
       "    </tr>\n",
       "    <tr>\n",
       "      <th>2</th>\n",
       "      <td>spotify:track:70XtWbcVZcpaOddJftMcVi</td>\n",
       "      <td>From the Bottom of My Broken Heart</td>\n",
       "      <td>spotify:artist:26dSoYclwsYLMAKD3tpOr4</td>\n",
       "      <td>Britney Spears</td>\n",
       "      <td>spotify:album:3WNxdumkSMGMJRhEgK80qx</td>\n",
       "      <td>...Baby One More Time (Digital Deluxe Version)</td>\n",
       "      <td>spotify:artist:26dSoYclwsYLMAKD3tpOr4</td>\n",
       "      <td>Britney Spears</td>\n",
       "      <td>1999-01-12</td>\n",
       "      <td>https://i.scdn.co/image/ab67616d0000b2738e4986...</td>\n",
       "      <td>...</td>\n",
       "      <td>0.0305</td>\n",
       "      <td>0.5600</td>\n",
       "      <td>0.000001</td>\n",
       "      <td>0.3380</td>\n",
       "      <td>0.706</td>\n",
       "      <td>74.981</td>\n",
       "      <td>4.0</td>\n",
       "      <td>NaN</td>\n",
       "      <td>Jive</td>\n",
       "      <td>P (P) 1999 Zomba Recording LLC</td>\n",
       "    </tr>\n",
       "    <tr>\n",
       "      <th>3</th>\n",
       "      <td>spotify:track:1NXUWyPJk5kO6DQJ5t7bDu</td>\n",
       "      <td>Apeman - 2014 Remastered Version</td>\n",
       "      <td>spotify:artist:1SQRv42e4PjEYfPhS0Tk9E</td>\n",
       "      <td>The Kinks</td>\n",
       "      <td>spotify:album:6lL6HugNEN4Vlc8sj0Zcse</td>\n",
       "      <td>Lola vs. Powerman and the Moneygoround, Pt. On...</td>\n",
       "      <td>spotify:artist:1SQRv42e4PjEYfPhS0Tk9E</td>\n",
       "      <td>The Kinks</td>\n",
       "      <td>2014-10-20</td>\n",
       "      <td>https://i.scdn.co/image/ab67616d0000b2731e7c53...</td>\n",
       "      <td>...</td>\n",
       "      <td>0.2590</td>\n",
       "      <td>0.5680</td>\n",
       "      <td>0.000051</td>\n",
       "      <td>0.0384</td>\n",
       "      <td>0.833</td>\n",
       "      <td>75.311</td>\n",
       "      <td>4.0</td>\n",
       "      <td>NaN</td>\n",
       "      <td>Sanctuary Records</td>\n",
       "      <td>C © 2014 Sanctuary Records Group Ltd., a BMG C...</td>\n",
       "    </tr>\n",
       "    <tr>\n",
       "      <th>4</th>\n",
       "      <td>spotify:track:72WZtWs6V7uu3aMgMmEkYe</td>\n",
       "      <td>You Can't Always Get What You Want</td>\n",
       "      <td>spotify:artist:22bE4uQ6baNwSHPVcDxLCe</td>\n",
       "      <td>The Rolling Stones</td>\n",
       "      <td>spotify:album:0c78nsgqX6VfniSNWIxwoD</td>\n",
       "      <td>Let It Bleed</td>\n",
       "      <td>spotify:artist:22bE4uQ6baNwSHPVcDxLCe</td>\n",
       "      <td>The Rolling Stones</td>\n",
       "      <td>1969-12-05</td>\n",
       "      <td>https://i.scdn.co/image/ab67616d0000b27373d927...</td>\n",
       "      <td>...</td>\n",
       "      <td>0.0687</td>\n",
       "      <td>0.6750</td>\n",
       "      <td>0.000073</td>\n",
       "      <td>0.2890</td>\n",
       "      <td>0.497</td>\n",
       "      <td>85.818</td>\n",
       "      <td>4.0</td>\n",
       "      <td>NaN</td>\n",
       "      <td>Universal Music Group</td>\n",
       "      <td>C © 2002 ABKCO Music &amp; Records Inc., P ℗ 2002 ...</td>\n",
       "    </tr>\n",
       "  </tbody>\n",
       "</table>\n",
       "<p>5 rows × 35 columns</p>\n",
       "</div>"
      ],
      "text/plain": [
       "                              Track URI  \\\n",
       "0  spotify:track:1XAZlnVtthcDZt2NI1Dtxo   \n",
       "1  spotify:track:6a8GbQIlV8HBUW3c6Uk9PH   \n",
       "2  spotify:track:70XtWbcVZcpaOddJftMcVi   \n",
       "3  spotify:track:1NXUWyPJk5kO6DQJ5t7bDu   \n",
       "4  spotify:track:72WZtWs6V7uu3aMgMmEkYe   \n",
       "\n",
       "                                Track Name  \\\n",
       "0  Justified & Ancient - Stand by the Jams   \n",
       "1          I Know You Want Me (Calle Ocho)   \n",
       "2       From the Bottom of My Broken Heart   \n",
       "3         Apeman - 2014 Remastered Version   \n",
       "4       You Can't Always Get What You Want   \n",
       "\n",
       "                           Artist URI(s)      Artist Name(s)  \\\n",
       "0  spotify:artist:6dYrdRlNZSKaVxYg5IrvCH             The KLF   \n",
       "1  spotify:artist:0TnOYISbd1XYRBk9myaseg             Pitbull   \n",
       "2  spotify:artist:26dSoYclwsYLMAKD3tpOr4      Britney Spears   \n",
       "3  spotify:artist:1SQRv42e4PjEYfPhS0Tk9E           The Kinks   \n",
       "4  spotify:artist:22bE4uQ6baNwSHPVcDxLCe  The Rolling Stones   \n",
       "\n",
       "                              Album URI  \\\n",
       "0  spotify:album:4MC0ZjNtVP1nDD5lsLxFjc   \n",
       "1  spotify:album:5xLAcbvbSAlRtPXnKkggXA   \n",
       "2  spotify:album:3WNxdumkSMGMJRhEgK80qx   \n",
       "3  spotify:album:6lL6HugNEN4Vlc8sj0Zcse   \n",
       "4  spotify:album:0c78nsgqX6VfniSNWIxwoD   \n",
       "\n",
       "                                          Album Name  \\\n",
       "0                                   Songs Collection   \n",
       "1                     Pitbull Starring In Rebelution   \n",
       "2     ...Baby One More Time (Digital Deluxe Version)   \n",
       "3  Lola vs. Powerman and the Moneygoround, Pt. On...   \n",
       "4                                       Let It Bleed   \n",
       "\n",
       "                     Album Artist URI(s) Album Artist Name(s)  \\\n",
       "0  spotify:artist:6dYrdRlNZSKaVxYg5IrvCH              The KLF   \n",
       "1  spotify:artist:0TnOYISbd1XYRBk9myaseg              Pitbull   \n",
       "2  spotify:artist:26dSoYclwsYLMAKD3tpOr4       Britney Spears   \n",
       "3  spotify:artist:1SQRv42e4PjEYfPhS0Tk9E            The Kinks   \n",
       "4  spotify:artist:22bE4uQ6baNwSHPVcDxLCe   The Rolling Stones   \n",
       "\n",
       "  Album Release Date                                    Album Image URL  ...  \\\n",
       "0         1992-08-03  https://i.scdn.co/image/ab67616d0000b27355346b...  ...   \n",
       "1         2009-10-23  https://i.scdn.co/image/ab67616d0000b27326d73a...  ...   \n",
       "2         1999-01-12  https://i.scdn.co/image/ab67616d0000b2738e4986...  ...   \n",
       "3         2014-10-20  https://i.scdn.co/image/ab67616d0000b2731e7c53...  ...   \n",
       "4         1969-12-05  https://i.scdn.co/image/ab67616d0000b27373d927...  ...   \n",
       "\n",
       "   Speechiness  Acousticness  Instrumentalness Liveness  Valence    Tempo  \\\n",
       "0       0.0480        0.0158          0.112000   0.4080    0.504  111.458   \n",
       "1       0.1490        0.0142          0.000021   0.2370    0.800  127.045   \n",
       "2       0.0305        0.5600          0.000001   0.3380    0.706   74.981   \n",
       "3       0.2590        0.5680          0.000051   0.0384    0.833   75.311   \n",
       "4       0.0687        0.6750          0.000073   0.2890    0.497   85.818   \n",
       "\n",
       "  Time Signature Album Genres                                Label  \\\n",
       "0            4.0          NaN                  Jams Communications   \n",
       "1            4.0          NaN  Mr.305/Polo Grounds Music/J Records   \n",
       "2            4.0          NaN                                 Jive   \n",
       "3            4.0          NaN                    Sanctuary Records   \n",
       "4            4.0          NaN                Universal Music Group   \n",
       "\n",
       "                                          Copyrights  \n",
       "0  C 1992 Copyright Control, P 1992 Jams Communic...  \n",
       "1  P (P) 2009 RCA/JIVE Label Group, a unit of Son...  \n",
       "2                     P (P) 1999 Zomba Recording LLC  \n",
       "3  C © 2014 Sanctuary Records Group Ltd., a BMG C...  \n",
       "4  C © 2002 ABKCO Music & Records Inc., P ℗ 2002 ...  \n",
       "\n",
       "[5 rows x 35 columns]"
      ]
     },
     "execution_count": 2,
     "metadata": {},
     "output_type": "execute_result"
    }
   ],
   "source": [
    "songs = pd.read_csv('/kaggle/input/top-10000-spotify-songs-1960-now/top_10000_1960-now.csv')\n",
    "songs.head()"
   ]
  },
  {
   "cell_type": "code",
   "execution_count": 3,
   "id": "8f1afe83",
   "metadata": {
    "execution": {
     "iopub.execute_input": "2024-04-13T05:15:51.575823Z",
     "iopub.status.busy": "2024-04-13T05:15:51.575372Z",
     "iopub.status.idle": "2024-04-13T05:15:51.582771Z",
     "shell.execute_reply": "2024-04-13T05:15:51.581512Z"
    },
    "papermill": {
     "duration": 0.02315,
     "end_time": "2024-04-13T05:15:51.585207",
     "exception": false,
     "start_time": "2024-04-13T05:15:51.562057",
     "status": "completed"
    },
    "tags": []
   },
   "outputs": [
    {
     "data": {
      "text/plain": [
       "(9999, 35)"
      ]
     },
     "execution_count": 3,
     "metadata": {},
     "output_type": "execute_result"
    }
   ],
   "source": [
    "songs.shape"
   ]
  },
  {
   "cell_type": "code",
   "execution_count": 4,
   "id": "2e98765a",
   "metadata": {
    "execution": {
     "iopub.execute_input": "2024-04-13T05:15:51.611160Z",
     "iopub.status.busy": "2024-04-13T05:15:51.610775Z",
     "iopub.status.idle": "2024-04-13T05:15:51.618560Z",
     "shell.execute_reply": "2024-04-13T05:15:51.617327Z"
    },
    "papermill": {
     "duration": 0.023783,
     "end_time": "2024-04-13T05:15:51.621136",
     "exception": false,
     "start_time": "2024-04-13T05:15:51.597353",
     "status": "completed"
    },
    "tags": []
   },
   "outputs": [
    {
     "data": {
      "text/plain": [
       "Index(['Track URI', 'Track Name', 'Artist URI(s)', 'Artist Name(s)',\n",
       "       'Album URI', 'Album Name', 'Album Artist URI(s)',\n",
       "       'Album Artist Name(s)', 'Album Release Date', 'Album Image URL',\n",
       "       'Disc Number', 'Track Number', 'Track Duration (ms)',\n",
       "       'Track Preview URL', 'Explicit', 'Popularity', 'ISRC', 'Added By',\n",
       "       'Added At', 'Artist Genres', 'Danceability', 'Energy', 'Key',\n",
       "       'Loudness', 'Mode', 'Speechiness', 'Acousticness', 'Instrumentalness',\n",
       "       'Liveness', 'Valence', 'Tempo', 'Time Signature', 'Album Genres',\n",
       "       'Label', 'Copyrights'],\n",
       "      dtype='object')"
      ]
     },
     "execution_count": 4,
     "metadata": {},
     "output_type": "execute_result"
    }
   ],
   "source": [
    "songs.columns"
   ]
  },
  {
   "cell_type": "code",
   "execution_count": 5,
   "id": "6f7231da",
   "metadata": {
    "execution": {
     "iopub.execute_input": "2024-04-13T05:15:51.647507Z",
     "iopub.status.busy": "2024-04-13T05:15:51.647108Z",
     "iopub.status.idle": "2024-04-13T05:15:51.673865Z",
     "shell.execute_reply": "2024-04-13T05:15:51.672779Z"
    },
    "papermill": {
     "duration": 0.042922,
     "end_time": "2024-04-13T05:15:51.676460",
     "exception": false,
     "start_time": "2024-04-13T05:15:51.633538",
     "status": "completed"
    },
    "tags": []
   },
   "outputs": [],
   "source": [
    "songs.drop_duplicates(subset=['Track Name', 'Artist Name(s)'],inplace=True)"
   ]
  },
  {
   "cell_type": "code",
   "execution_count": 6,
   "id": "c57fd826",
   "metadata": {
    "execution": {
     "iopub.execute_input": "2024-04-13T05:15:51.703328Z",
     "iopub.status.busy": "2024-04-13T05:15:51.702531Z",
     "iopub.status.idle": "2024-04-13T05:15:51.709950Z",
     "shell.execute_reply": "2024-04-13T05:15:51.708728Z"
    },
    "papermill": {
     "duration": 0.023475,
     "end_time": "2024-04-13T05:15:51.712430",
     "exception": false,
     "start_time": "2024-04-13T05:15:51.688955",
     "status": "completed"
    },
    "tags": []
   },
   "outputs": [
    {
     "data": {
      "text/plain": [
       "(8899, 35)"
      ]
     },
     "execution_count": 6,
     "metadata": {},
     "output_type": "execute_result"
    }
   ],
   "source": [
    "songs.shape"
   ]
  },
  {
   "cell_type": "code",
   "execution_count": 7,
   "id": "3943d76c",
   "metadata": {
    "execution": {
     "iopub.execute_input": "2024-04-13T05:15:51.739631Z",
     "iopub.status.busy": "2024-04-13T05:15:51.739217Z",
     "iopub.status.idle": "2024-04-13T05:15:51.763748Z",
     "shell.execute_reply": "2024-04-13T05:15:51.762425Z"
    },
    "papermill": {
     "duration": 0.041202,
     "end_time": "2024-04-13T05:15:51.766385",
     "exception": false,
     "start_time": "2024-04-13T05:15:51.725183",
     "status": "completed"
    },
    "tags": []
   },
   "outputs": [
    {
     "data": {
      "text/html": [
       "<div>\n",
       "<style scoped>\n",
       "    .dataframe tbody tr th:only-of-type {\n",
       "        vertical-align: middle;\n",
       "    }\n",
       "\n",
       "    .dataframe tbody tr th {\n",
       "        vertical-align: top;\n",
       "    }\n",
       "\n",
       "    .dataframe thead th {\n",
       "        text-align: right;\n",
       "    }\n",
       "</style>\n",
       "<table border=\"1\" class=\"dataframe\">\n",
       "  <thead>\n",
       "    <tr style=\"text-align: right;\">\n",
       "      <th></th>\n",
       "      <th>Track Name</th>\n",
       "      <th>Artist Genres</th>\n",
       "      <th>Artist Name(s)</th>\n",
       "      <th>Danceability</th>\n",
       "      <th>Energy</th>\n",
       "      <th>Acousticness</th>\n",
       "      <th>Instrumentalness</th>\n",
       "      <th>Liveness</th>\n",
       "      <th>Valence</th>\n",
       "      <th>Tempo</th>\n",
       "      <th>Time Signature</th>\n",
       "    </tr>\n",
       "  </thead>\n",
       "  <tbody>\n",
       "    <tr>\n",
       "      <th>0</th>\n",
       "      <td>Justified &amp; Ancient - Stand by the Jams</td>\n",
       "      <td>acid house,ambient house,big beat,hip house</td>\n",
       "      <td>The KLF</td>\n",
       "      <td>0.617</td>\n",
       "      <td>0.872</td>\n",
       "      <td>0.0158</td>\n",
       "      <td>0.112000</td>\n",
       "      <td>0.4080</td>\n",
       "      <td>0.504</td>\n",
       "      <td>111.458</td>\n",
       "      <td>4.0</td>\n",
       "    </tr>\n",
       "    <tr>\n",
       "      <th>1</th>\n",
       "      <td>I Know You Want Me (Calle Ocho)</td>\n",
       "      <td>dance pop,miami hip hop,pop</td>\n",
       "      <td>Pitbull</td>\n",
       "      <td>0.825</td>\n",
       "      <td>0.743</td>\n",
       "      <td>0.0142</td>\n",
       "      <td>0.000021</td>\n",
       "      <td>0.2370</td>\n",
       "      <td>0.800</td>\n",
       "      <td>127.045</td>\n",
       "      <td>4.0</td>\n",
       "    </tr>\n",
       "    <tr>\n",
       "      <th>2</th>\n",
       "      <td>From the Bottom of My Broken Heart</td>\n",
       "      <td>dance pop,pop</td>\n",
       "      <td>Britney Spears</td>\n",
       "      <td>0.677</td>\n",
       "      <td>0.665</td>\n",
       "      <td>0.5600</td>\n",
       "      <td>0.000001</td>\n",
       "      <td>0.3380</td>\n",
       "      <td>0.706</td>\n",
       "      <td>74.981</td>\n",
       "      <td>4.0</td>\n",
       "    </tr>\n",
       "    <tr>\n",
       "      <th>3</th>\n",
       "      <td>Apeman - 2014 Remastered Version</td>\n",
       "      <td>album rock,art rock,british invasion,classic r...</td>\n",
       "      <td>The Kinks</td>\n",
       "      <td>0.683</td>\n",
       "      <td>0.728</td>\n",
       "      <td>0.5680</td>\n",
       "      <td>0.000051</td>\n",
       "      <td>0.0384</td>\n",
       "      <td>0.833</td>\n",
       "      <td>75.311</td>\n",
       "      <td>4.0</td>\n",
       "    </tr>\n",
       "    <tr>\n",
       "      <th>4</th>\n",
       "      <td>You Can't Always Get What You Want</td>\n",
       "      <td>album rock,british invasion,classic rock,rock</td>\n",
       "      <td>The Rolling Stones</td>\n",
       "      <td>0.319</td>\n",
       "      <td>0.627</td>\n",
       "      <td>0.6750</td>\n",
       "      <td>0.000073</td>\n",
       "      <td>0.2890</td>\n",
       "      <td>0.497</td>\n",
       "      <td>85.818</td>\n",
       "      <td>4.0</td>\n",
       "    </tr>\n",
       "  </tbody>\n",
       "</table>\n",
       "</div>"
      ],
      "text/plain": [
       "                                Track Name  \\\n",
       "0  Justified & Ancient - Stand by the Jams   \n",
       "1          I Know You Want Me (Calle Ocho)   \n",
       "2       From the Bottom of My Broken Heart   \n",
       "3         Apeman - 2014 Remastered Version   \n",
       "4       You Can't Always Get What You Want   \n",
       "\n",
       "                                       Artist Genres      Artist Name(s)  \\\n",
       "0        acid house,ambient house,big beat,hip house             The KLF   \n",
       "1                        dance pop,miami hip hop,pop             Pitbull   \n",
       "2                                      dance pop,pop      Britney Spears   \n",
       "3  album rock,art rock,british invasion,classic r...           The Kinks   \n",
       "4      album rock,british invasion,classic rock,rock  The Rolling Stones   \n",
       "\n",
       "   Danceability  Energy  Acousticness  Instrumentalness  Liveness  Valence  \\\n",
       "0         0.617   0.872        0.0158          0.112000    0.4080    0.504   \n",
       "1         0.825   0.743        0.0142          0.000021    0.2370    0.800   \n",
       "2         0.677   0.665        0.5600          0.000001    0.3380    0.706   \n",
       "3         0.683   0.728        0.5680          0.000051    0.0384    0.833   \n",
       "4         0.319   0.627        0.6750          0.000073    0.2890    0.497   \n",
       "\n",
       "     Tempo  Time Signature  \n",
       "0  111.458             4.0  \n",
       "1  127.045             4.0  \n",
       "2   74.981             4.0  \n",
       "3   75.311             4.0  \n",
       "4   85.818             4.0  "
      ]
     },
     "execution_count": 7,
     "metadata": {},
     "output_type": "execute_result"
    }
   ],
   "source": [
    "selected_features = ['Track Name','Artist Genres','Artist Name(s)','Danceability', 'Energy', 'Acousticness', 'Instrumentalness', \n",
    "                     'Liveness', 'Valence', 'Tempo', 'Time Signature']\n",
    "songs = songs[selected_features]\n",
    "songs.head()"
   ]
  },
  {
   "cell_type": "code",
   "execution_count": 8,
   "id": "75762c7b",
   "metadata": {
    "execution": {
     "iopub.execute_input": "2024-04-13T05:15:51.794898Z",
     "iopub.status.busy": "2024-04-13T05:15:51.794502Z",
     "iopub.status.idle": "2024-04-13T05:15:51.806947Z",
     "shell.execute_reply": "2024-04-13T05:15:51.805901Z"
    },
    "papermill": {
     "duration": 0.029544,
     "end_time": "2024-04-13T05:15:51.809811",
     "exception": false,
     "start_time": "2024-04-13T05:15:51.780267",
     "status": "completed"
    },
    "tags": []
   },
   "outputs": [
    {
     "data": {
      "text/plain": [
       "Track Name            1\n",
       "Artist Genres       535\n",
       "Artist Name(s)        1\n",
       "Danceability          2\n",
       "Energy                2\n",
       "Acousticness          2\n",
       "Instrumentalness      2\n",
       "Liveness              2\n",
       "Valence               2\n",
       "Tempo                 2\n",
       "Time Signature        2\n",
       "dtype: int64"
      ]
     },
     "execution_count": 8,
     "metadata": {},
     "output_type": "execute_result"
    }
   ],
   "source": [
    "songs.isnull().sum()"
   ]
  },
  {
   "cell_type": "code",
   "execution_count": 9,
   "id": "82f5a0c4",
   "metadata": {
    "execution": {
     "iopub.execute_input": "2024-04-13T05:15:51.838761Z",
     "iopub.status.busy": "2024-04-13T05:15:51.837354Z",
     "iopub.status.idle": "2024-04-13T05:15:51.848761Z",
     "shell.execute_reply": "2024-04-13T05:15:51.847627Z"
    },
    "papermill": {
     "duration": 0.028543,
     "end_time": "2024-04-13T05:15:51.851601",
     "exception": false,
     "start_time": "2024-04-13T05:15:51.823058",
     "status": "completed"
    },
    "tags": []
   },
   "outputs": [],
   "source": [
    "songs.dropna(inplace=True)"
   ]
  },
  {
   "cell_type": "code",
   "execution_count": 10,
   "id": "ec5702b3",
   "metadata": {
    "execution": {
     "iopub.execute_input": "2024-04-13T05:15:51.879635Z",
     "iopub.status.busy": "2024-04-13T05:15:51.879230Z",
     "iopub.status.idle": "2024-04-13T05:15:51.897286Z",
     "shell.execute_reply": "2024-04-13T05:15:51.896366Z"
    },
    "papermill": {
     "duration": 0.03496,
     "end_time": "2024-04-13T05:15:51.899749",
     "exception": false,
     "start_time": "2024-04-13T05:15:51.864789",
     "status": "completed"
    },
    "tags": []
   },
   "outputs": [
    {
     "data": {
      "text/plain": [
       "0"
      ]
     },
     "execution_count": 10,
     "metadata": {},
     "output_type": "execute_result"
    }
   ],
   "source": [
    "songs.duplicated().sum()"
   ]
  },
  {
   "cell_type": "code",
   "execution_count": 11,
   "id": "88473515",
   "metadata": {
    "execution": {
     "iopub.execute_input": "2024-04-13T05:15:51.927753Z",
     "iopub.status.busy": "2024-04-13T05:15:51.927338Z",
     "iopub.status.idle": "2024-04-13T05:15:51.948351Z",
     "shell.execute_reply": "2024-04-13T05:15:51.947099Z"
    },
    "papermill": {
     "duration": 0.037819,
     "end_time": "2024-04-13T05:15:51.950752",
     "exception": false,
     "start_time": "2024-04-13T05:15:51.912933",
     "status": "completed"
    },
    "tags": []
   },
   "outputs": [
    {
     "data": {
      "text/html": [
       "<div>\n",
       "<style scoped>\n",
       "    .dataframe tbody tr th:only-of-type {\n",
       "        vertical-align: middle;\n",
       "    }\n",
       "\n",
       "    .dataframe tbody tr th {\n",
       "        vertical-align: top;\n",
       "    }\n",
       "\n",
       "    .dataframe thead th {\n",
       "        text-align: right;\n",
       "    }\n",
       "</style>\n",
       "<table border=\"1\" class=\"dataframe\">\n",
       "  <thead>\n",
       "    <tr style=\"text-align: right;\">\n",
       "      <th></th>\n",
       "      <th>Track Name</th>\n",
       "      <th>Artist Genres</th>\n",
       "      <th>Artist Name(s)</th>\n",
       "      <th>Danceability</th>\n",
       "      <th>Energy</th>\n",
       "      <th>Acousticness</th>\n",
       "      <th>Instrumentalness</th>\n",
       "      <th>Liveness</th>\n",
       "      <th>Valence</th>\n",
       "      <th>Tempo</th>\n",
       "      <th>Time Signature</th>\n",
       "    </tr>\n",
       "  </thead>\n",
       "  <tbody>\n",
       "    <tr>\n",
       "      <th>0</th>\n",
       "      <td>Justified &amp; Ancient - Stand by the Jams</td>\n",
       "      <td>acid house,ambient house,big beat,hip house</td>\n",
       "      <td>The KLF</td>\n",
       "      <td>0.617</td>\n",
       "      <td>0.872</td>\n",
       "      <td>0.0158</td>\n",
       "      <td>0.112000</td>\n",
       "      <td>0.4080</td>\n",
       "      <td>0.504</td>\n",
       "      <td>111.458</td>\n",
       "      <td>4.0</td>\n",
       "    </tr>\n",
       "    <tr>\n",
       "      <th>1</th>\n",
       "      <td>I Know You Want Me (Calle Ocho)</td>\n",
       "      <td>dance pop,miami hip hop,pop</td>\n",
       "      <td>Pitbull</td>\n",
       "      <td>0.825</td>\n",
       "      <td>0.743</td>\n",
       "      <td>0.0142</td>\n",
       "      <td>0.000021</td>\n",
       "      <td>0.2370</td>\n",
       "      <td>0.800</td>\n",
       "      <td>127.045</td>\n",
       "      <td>4.0</td>\n",
       "    </tr>\n",
       "    <tr>\n",
       "      <th>2</th>\n",
       "      <td>From the Bottom of My Broken Heart</td>\n",
       "      <td>dance pop,pop</td>\n",
       "      <td>Britney Spears</td>\n",
       "      <td>0.677</td>\n",
       "      <td>0.665</td>\n",
       "      <td>0.5600</td>\n",
       "      <td>0.000001</td>\n",
       "      <td>0.3380</td>\n",
       "      <td>0.706</td>\n",
       "      <td>74.981</td>\n",
       "      <td>4.0</td>\n",
       "    </tr>\n",
       "    <tr>\n",
       "      <th>3</th>\n",
       "      <td>Apeman - 2014 Remastered Version</td>\n",
       "      <td>album rock,art rock,british invasion,classic r...</td>\n",
       "      <td>The Kinks</td>\n",
       "      <td>0.683</td>\n",
       "      <td>0.728</td>\n",
       "      <td>0.5680</td>\n",
       "      <td>0.000051</td>\n",
       "      <td>0.0384</td>\n",
       "      <td>0.833</td>\n",
       "      <td>75.311</td>\n",
       "      <td>4.0</td>\n",
       "    </tr>\n",
       "    <tr>\n",
       "      <th>4</th>\n",
       "      <td>You Can't Always Get What You Want</td>\n",
       "      <td>album rock,british invasion,classic rock,rock</td>\n",
       "      <td>The Rolling Stones</td>\n",
       "      <td>0.319</td>\n",
       "      <td>0.627</td>\n",
       "      <td>0.6750</td>\n",
       "      <td>0.000073</td>\n",
       "      <td>0.2890</td>\n",
       "      <td>0.497</td>\n",
       "      <td>85.818</td>\n",
       "      <td>4.0</td>\n",
       "    </tr>\n",
       "  </tbody>\n",
       "</table>\n",
       "</div>"
      ],
      "text/plain": [
       "                                Track Name  \\\n",
       "0  Justified & Ancient - Stand by the Jams   \n",
       "1          I Know You Want Me (Calle Ocho)   \n",
       "2       From the Bottom of My Broken Heart   \n",
       "3         Apeman - 2014 Remastered Version   \n",
       "4       You Can't Always Get What You Want   \n",
       "\n",
       "                                       Artist Genres      Artist Name(s)  \\\n",
       "0        acid house,ambient house,big beat,hip house             The KLF   \n",
       "1                        dance pop,miami hip hop,pop             Pitbull   \n",
       "2                                      dance pop,pop      Britney Spears   \n",
       "3  album rock,art rock,british invasion,classic r...           The Kinks   \n",
       "4      album rock,british invasion,classic rock,rock  The Rolling Stones   \n",
       "\n",
       "   Danceability  Energy  Acousticness  Instrumentalness  Liveness  Valence  \\\n",
       "0         0.617   0.872        0.0158          0.112000    0.4080    0.504   \n",
       "1         0.825   0.743        0.0142          0.000021    0.2370    0.800   \n",
       "2         0.677   0.665        0.5600          0.000001    0.3380    0.706   \n",
       "3         0.683   0.728        0.5680          0.000051    0.0384    0.833   \n",
       "4         0.319   0.627        0.6750          0.000073    0.2890    0.497   \n",
       "\n",
       "     Tempo  Time Signature  \n",
       "0  111.458             4.0  \n",
       "1  127.045             4.0  \n",
       "2   74.981             4.0  \n",
       "3   75.311             4.0  \n",
       "4   85.818             4.0  "
      ]
     },
     "execution_count": 11,
     "metadata": {},
     "output_type": "execute_result"
    }
   ],
   "source": [
    "songs.head()"
   ]
  },
  {
   "cell_type": "code",
   "execution_count": 12,
   "id": "64b89196",
   "metadata": {
    "execution": {
     "iopub.execute_input": "2024-04-13T05:15:51.979466Z",
     "iopub.status.busy": "2024-04-13T05:15:51.979038Z",
     "iopub.status.idle": "2024-04-13T05:15:51.984644Z",
     "shell.execute_reply": "2024-04-13T05:15:51.983381Z"
    },
    "papermill": {
     "duration": 0.02289,
     "end_time": "2024-04-13T05:15:51.987279",
     "exception": false,
     "start_time": "2024-04-13T05:15:51.964389",
     "status": "completed"
    },
    "tags": []
   },
   "outputs": [],
   "source": [
    "def strToList(string):\n",
    "    l=[]\n",
    "    l=string.split(', ')\n",
    "    return l"
   ]
  },
  {
   "cell_type": "code",
   "execution_count": 13,
   "id": "166c65c2",
   "metadata": {
    "execution": {
     "iopub.execute_input": "2024-04-13T05:15:52.018588Z",
     "iopub.status.busy": "2024-04-13T05:15:52.017258Z",
     "iopub.status.idle": "2024-04-13T05:15:52.031934Z",
     "shell.execute_reply": "2024-04-13T05:15:52.030615Z"
    },
    "papermill": {
     "duration": 0.033,
     "end_time": "2024-04-13T05:15:52.034543",
     "exception": false,
     "start_time": "2024-04-13T05:15:52.001543",
     "status": "completed"
    },
    "tags": []
   },
   "outputs": [],
   "source": [
    "songs['Artist Name(s)'] = songs['Artist Name(s)'].apply(strToList)"
   ]
  },
  {
   "cell_type": "code",
   "execution_count": 14,
   "id": "a446cd83",
   "metadata": {
    "execution": {
     "iopub.execute_input": "2024-04-13T05:15:52.063789Z",
     "iopub.status.busy": "2024-04-13T05:15:52.063328Z",
     "iopub.status.idle": "2024-04-13T05:15:52.075573Z",
     "shell.execute_reply": "2024-04-13T05:15:52.074675Z"
    },
    "papermill": {
     "duration": 0.029871,
     "end_time": "2024-04-13T05:15:52.078076",
     "exception": false,
     "start_time": "2024-04-13T05:15:52.048205",
     "status": "completed"
    },
    "tags": []
   },
   "outputs": [],
   "source": [
    "songs['Artist Genres'] = songs['Artist Genres'].apply(strToList)"
   ]
  },
  {
   "cell_type": "code",
   "execution_count": 15,
   "id": "64503e96",
   "metadata": {
    "execution": {
     "iopub.execute_input": "2024-04-13T05:15:52.107673Z",
     "iopub.status.busy": "2024-04-13T05:15:52.107235Z",
     "iopub.status.idle": "2024-04-13T05:15:52.139315Z",
     "shell.execute_reply": "2024-04-13T05:15:52.137898Z"
    },
    "papermill": {
     "duration": 0.049958,
     "end_time": "2024-04-13T05:15:52.142048",
     "exception": false,
     "start_time": "2024-04-13T05:15:52.092090",
     "status": "completed"
    },
    "tags": []
   },
   "outputs": [],
   "source": [
    "songs['Artist Genres'] = songs['Artist Genres'].apply(lambda x :[i.replace(\" \",\"\") for i in x])\n",
    "songs['Artist Name(s)'] = songs['Artist Name(s)'].apply(lambda x :[i.replace(\" \",\"\") for i in x])"
   ]
  },
  {
   "cell_type": "code",
   "execution_count": 16,
   "id": "e2db1206",
   "metadata": {
    "execution": {
     "iopub.execute_input": "2024-04-13T05:15:52.172025Z",
     "iopub.status.busy": "2024-04-13T05:15:52.171248Z",
     "iopub.status.idle": "2024-04-13T05:15:52.180586Z",
     "shell.execute_reply": "2024-04-13T05:15:52.179369Z"
    },
    "papermill": {
     "duration": 0.027691,
     "end_time": "2024-04-13T05:15:52.183628",
     "exception": false,
     "start_time": "2024-04-13T05:15:52.155937",
     "status": "completed"
    },
    "tags": []
   },
   "outputs": [],
   "source": [
    "songs['tags'] = songs['Artist Genres']+songs['Artist Name(s)']"
   ]
  },
  {
   "cell_type": "code",
   "execution_count": 17,
   "id": "9e6fe4d2",
   "metadata": {
    "execution": {
     "iopub.execute_input": "2024-04-13T05:15:52.213787Z",
     "iopub.status.busy": "2024-04-13T05:15:52.213394Z",
     "iopub.status.idle": "2024-04-13T05:15:52.225004Z",
     "shell.execute_reply": "2024-04-13T05:15:52.223654Z"
    },
    "papermill": {
     "duration": 0.03021,
     "end_time": "2024-04-13T05:15:52.227533",
     "exception": false,
     "start_time": "2024-04-13T05:15:52.197323",
     "status": "completed"
    },
    "tags": []
   },
   "outputs": [
    {
     "data": {
      "text/plain": [
       "0       [acidhouse,ambienthouse,bigbeat,hiphouse, TheKLF]\n",
       "1                     [dancepop,miamihiphop,pop, Pitbull]\n",
       "2                           [dancepop,pop, BritneySpears]\n",
       "3       [albumrock,artrock,britishinvasion,classicrock...\n",
       "4       [albumrock,britishinvasion,classicrock,rock, T...\n",
       "                              ...                        \n",
       "9993                         [germantechno, ZombieNation]\n",
       "9994    [germandance,popdance,popedm,ukdance,popdance,...\n",
       "9995         [australiandance,melbournebounce, Vandalism]\n",
       "9996    [discohouse,vocalhouse,dancepop,europop,newwav...\n",
       "9997    [bigroom,brostep,dutchedm,edm,house,popdance,s...\n",
       "Name: tags, Length: 8364, dtype: object"
      ]
     },
     "execution_count": 17,
     "metadata": {},
     "output_type": "execute_result"
    }
   ],
   "source": [
    "songs['tags']"
   ]
  },
  {
   "cell_type": "code",
   "execution_count": 18,
   "id": "ef494664",
   "metadata": {
    "execution": {
     "iopub.execute_input": "2024-04-13T05:15:52.256942Z",
     "iopub.status.busy": "2024-04-13T05:15:52.256524Z",
     "iopub.status.idle": "2024-04-13T05:15:52.264577Z",
     "shell.execute_reply": "2024-04-13T05:15:52.263308Z"
    },
    "papermill": {
     "duration": 0.025884,
     "end_time": "2024-04-13T05:15:52.267214",
     "exception": false,
     "start_time": "2024-04-13T05:15:52.241330",
     "status": "completed"
    },
    "tags": []
   },
   "outputs": [],
   "source": [
    "songs.drop(columns=['Artist Name(s)','Artist Genres'],inplace=True)"
   ]
  },
  {
   "cell_type": "code",
   "execution_count": 19,
   "id": "85039d7d",
   "metadata": {
    "execution": {
     "iopub.execute_input": "2024-04-13T05:15:52.296887Z",
     "iopub.status.busy": "2024-04-13T05:15:52.296459Z",
     "iopub.status.idle": "2024-04-13T05:15:52.307169Z",
     "shell.execute_reply": "2024-04-13T05:15:52.306284Z"
    },
    "papermill": {
     "duration": 0.028617,
     "end_time": "2024-04-13T05:15:52.309575",
     "exception": false,
     "start_time": "2024-04-13T05:15:52.280958",
     "status": "completed"
    },
    "tags": []
   },
   "outputs": [],
   "source": [
    "songs['tags'] = songs['tags'].apply(lambda x : \" \".join(x))"
   ]
  },
  {
   "cell_type": "code",
   "execution_count": 20,
   "id": "4e3997c8",
   "metadata": {
    "execution": {
     "iopub.execute_input": "2024-04-13T05:15:52.338950Z",
     "iopub.status.busy": "2024-04-13T05:15:52.338566Z",
     "iopub.status.idle": "2024-04-13T05:15:52.348897Z",
     "shell.execute_reply": "2024-04-13T05:15:52.347673Z"
    },
    "papermill": {
     "duration": 0.027677,
     "end_time": "2024-04-13T05:15:52.351274",
     "exception": false,
     "start_time": "2024-04-13T05:15:52.323597",
     "status": "completed"
    },
    "tags": []
   },
   "outputs": [],
   "source": [
    "songs['tags'] = songs['tags'].apply(lambda x : x.lower())"
   ]
  },
  {
   "cell_type": "code",
   "execution_count": 21,
   "id": "c124f42d",
   "metadata": {
    "execution": {
     "iopub.execute_input": "2024-04-13T05:15:52.381161Z",
     "iopub.status.busy": "2024-04-13T05:15:52.379837Z",
     "iopub.status.idle": "2024-04-13T05:15:52.399714Z",
     "shell.execute_reply": "2024-04-13T05:15:52.398309Z"
    },
    "papermill": {
     "duration": 0.037175,
     "end_time": "2024-04-13T05:15:52.402110",
     "exception": false,
     "start_time": "2024-04-13T05:15:52.364935",
     "status": "completed"
    },
    "tags": []
   },
   "outputs": [
    {
     "data": {
      "text/html": [
       "<div>\n",
       "<style scoped>\n",
       "    .dataframe tbody tr th:only-of-type {\n",
       "        vertical-align: middle;\n",
       "    }\n",
       "\n",
       "    .dataframe tbody tr th {\n",
       "        vertical-align: top;\n",
       "    }\n",
       "\n",
       "    .dataframe thead th {\n",
       "        text-align: right;\n",
       "    }\n",
       "</style>\n",
       "<table border=\"1\" class=\"dataframe\">\n",
       "  <thead>\n",
       "    <tr style=\"text-align: right;\">\n",
       "      <th></th>\n",
       "      <th>Track Name</th>\n",
       "      <th>Danceability</th>\n",
       "      <th>Energy</th>\n",
       "      <th>Acousticness</th>\n",
       "      <th>Instrumentalness</th>\n",
       "      <th>Liveness</th>\n",
       "      <th>Valence</th>\n",
       "      <th>Tempo</th>\n",
       "      <th>Time Signature</th>\n",
       "      <th>tags</th>\n",
       "    </tr>\n",
       "  </thead>\n",
       "  <tbody>\n",
       "    <tr>\n",
       "      <th>0</th>\n",
       "      <td>Justified &amp; Ancient - Stand by the Jams</td>\n",
       "      <td>0.617</td>\n",
       "      <td>0.872</td>\n",
       "      <td>0.0158</td>\n",
       "      <td>0.112000</td>\n",
       "      <td>0.4080</td>\n",
       "      <td>0.504</td>\n",
       "      <td>111.458</td>\n",
       "      <td>4.0</td>\n",
       "      <td>acidhouse,ambienthouse,bigbeat,hiphouse theklf</td>\n",
       "    </tr>\n",
       "    <tr>\n",
       "      <th>1</th>\n",
       "      <td>I Know You Want Me (Calle Ocho)</td>\n",
       "      <td>0.825</td>\n",
       "      <td>0.743</td>\n",
       "      <td>0.0142</td>\n",
       "      <td>0.000021</td>\n",
       "      <td>0.2370</td>\n",
       "      <td>0.800</td>\n",
       "      <td>127.045</td>\n",
       "      <td>4.0</td>\n",
       "      <td>dancepop,miamihiphop,pop pitbull</td>\n",
       "    </tr>\n",
       "    <tr>\n",
       "      <th>2</th>\n",
       "      <td>From the Bottom of My Broken Heart</td>\n",
       "      <td>0.677</td>\n",
       "      <td>0.665</td>\n",
       "      <td>0.5600</td>\n",
       "      <td>0.000001</td>\n",
       "      <td>0.3380</td>\n",
       "      <td>0.706</td>\n",
       "      <td>74.981</td>\n",
       "      <td>4.0</td>\n",
       "      <td>dancepop,pop britneyspears</td>\n",
       "    </tr>\n",
       "    <tr>\n",
       "      <th>3</th>\n",
       "      <td>Apeman - 2014 Remastered Version</td>\n",
       "      <td>0.683</td>\n",
       "      <td>0.728</td>\n",
       "      <td>0.5680</td>\n",
       "      <td>0.000051</td>\n",
       "      <td>0.0384</td>\n",
       "      <td>0.833</td>\n",
       "      <td>75.311</td>\n",
       "      <td>4.0</td>\n",
       "      <td>albumrock,artrock,britishinvasion,classicrock,...</td>\n",
       "    </tr>\n",
       "    <tr>\n",
       "      <th>4</th>\n",
       "      <td>You Can't Always Get What You Want</td>\n",
       "      <td>0.319</td>\n",
       "      <td>0.627</td>\n",
       "      <td>0.6750</td>\n",
       "      <td>0.000073</td>\n",
       "      <td>0.2890</td>\n",
       "      <td>0.497</td>\n",
       "      <td>85.818</td>\n",
       "      <td>4.0</td>\n",
       "      <td>albumrock,britishinvasion,classicrock,rock the...</td>\n",
       "    </tr>\n",
       "  </tbody>\n",
       "</table>\n",
       "</div>"
      ],
      "text/plain": [
       "                                Track Name  Danceability  Energy  \\\n",
       "0  Justified & Ancient - Stand by the Jams         0.617   0.872   \n",
       "1          I Know You Want Me (Calle Ocho)         0.825   0.743   \n",
       "2       From the Bottom of My Broken Heart         0.677   0.665   \n",
       "3         Apeman - 2014 Remastered Version         0.683   0.728   \n",
       "4       You Can't Always Get What You Want         0.319   0.627   \n",
       "\n",
       "   Acousticness  Instrumentalness  Liveness  Valence    Tempo  Time Signature  \\\n",
       "0        0.0158          0.112000    0.4080    0.504  111.458             4.0   \n",
       "1        0.0142          0.000021    0.2370    0.800  127.045             4.0   \n",
       "2        0.5600          0.000001    0.3380    0.706   74.981             4.0   \n",
       "3        0.5680          0.000051    0.0384    0.833   75.311             4.0   \n",
       "4        0.6750          0.000073    0.2890    0.497   85.818             4.0   \n",
       "\n",
       "                                                tags  \n",
       "0     acidhouse,ambienthouse,bigbeat,hiphouse theklf  \n",
       "1                   dancepop,miamihiphop,pop pitbull  \n",
       "2                         dancepop,pop britneyspears  \n",
       "3  albumrock,artrock,britishinvasion,classicrock,...  \n",
       "4  albumrock,britishinvasion,classicrock,rock the...  "
      ]
     },
     "execution_count": 21,
     "metadata": {},
     "output_type": "execute_result"
    }
   ],
   "source": [
    "songs.head()"
   ]
  },
  {
   "cell_type": "code",
   "execution_count": 22,
   "id": "06ac2fa0",
   "metadata": {
    "execution": {
     "iopub.execute_input": "2024-04-13T05:15:52.432106Z",
     "iopub.status.busy": "2024-04-13T05:15:52.431732Z",
     "iopub.status.idle": "2024-04-13T05:15:54.816286Z",
     "shell.execute_reply": "2024-04-13T05:15:54.814955Z"
    },
    "papermill": {
     "duration": 2.404754,
     "end_time": "2024-04-13T05:15:54.820685",
     "exception": false,
     "start_time": "2024-04-13T05:15:52.415931",
     "status": "completed"
    },
    "tags": []
   },
   "outputs": [],
   "source": [
    "import nltk"
   ]
  },
  {
   "cell_type": "code",
   "execution_count": 23,
   "id": "4b9a0735",
   "metadata": {
    "execution": {
     "iopub.execute_input": "2024-04-13T05:15:54.857972Z",
     "iopub.status.busy": "2024-04-13T05:15:54.857107Z",
     "iopub.status.idle": "2024-04-13T05:15:54.862733Z",
     "shell.execute_reply": "2024-04-13T05:15:54.861818Z"
    },
    "papermill": {
     "duration": 0.02448,
     "end_time": "2024-04-13T05:15:54.865110",
     "exception": false,
     "start_time": "2024-04-13T05:15:54.840630",
     "status": "completed"
    },
    "tags": []
   },
   "outputs": [],
   "source": [
    "from nltk.stem.porter import PorterStemmer\n",
    "ps = PorterStemmer()"
   ]
  },
  {
   "cell_type": "code",
   "execution_count": 24,
   "id": "9b3094e2",
   "metadata": {
    "execution": {
     "iopub.execute_input": "2024-04-13T05:15:54.897797Z",
     "iopub.status.busy": "2024-04-13T05:15:54.897250Z",
     "iopub.status.idle": "2024-04-13T05:15:54.904700Z",
     "shell.execute_reply": "2024-04-13T05:15:54.903253Z"
    },
    "papermill": {
     "duration": 0.028672,
     "end_time": "2024-04-13T05:15:54.907910",
     "exception": false,
     "start_time": "2024-04-13T05:15:54.879238",
     "status": "completed"
    },
    "tags": []
   },
   "outputs": [],
   "source": [
    "def stem(text):\n",
    "    y=[]\n",
    "    \n",
    "    for i in text.split():\n",
    "        y.append(ps.stem(i))\n",
    "        \n",
    "    return \" \".join(y)"
   ]
  },
  {
   "cell_type": "code",
   "execution_count": 25,
   "id": "0f81bd50",
   "metadata": {
    "execution": {
     "iopub.execute_input": "2024-04-13T05:15:54.950497Z",
     "iopub.status.busy": "2024-04-13T05:15:54.949027Z",
     "iopub.status.idle": "2024-04-13T05:15:55.745281Z",
     "shell.execute_reply": "2024-04-13T05:15:55.744111Z"
    },
    "papermill": {
     "duration": 0.824774,
     "end_time": "2024-04-13T05:15:55.752390",
     "exception": false,
     "start_time": "2024-04-13T05:15:54.927616",
     "status": "completed"
    },
    "tags": []
   },
   "outputs": [],
   "source": [
    "songs['tags'] = songs['tags'].apply(stem)"
   ]
  },
  {
   "cell_type": "code",
   "execution_count": 26,
   "id": "9fae1d61",
   "metadata": {
    "execution": {
     "iopub.execute_input": "2024-04-13T05:15:55.783089Z",
     "iopub.status.busy": "2024-04-13T05:15:55.782292Z",
     "iopub.status.idle": "2024-04-13T05:15:55.788032Z",
     "shell.execute_reply": "2024-04-13T05:15:55.786853Z"
    },
    "papermill": {
     "duration": 0.02385,
     "end_time": "2024-04-13T05:15:55.790822",
     "exception": false,
     "start_time": "2024-04-13T05:15:55.766972",
     "status": "completed"
    },
    "tags": []
   },
   "outputs": [],
   "source": [
    "from sklearn.feature_extraction.text import TfidfVectorizer\n",
    "from sklearn.preprocessing import MultiLabelBinarizer"
   ]
  },
  {
   "cell_type": "code",
   "execution_count": 27,
   "id": "e6d0abfc",
   "metadata": {
    "execution": {
     "iopub.execute_input": "2024-04-13T05:15:55.821883Z",
     "iopub.status.busy": "2024-04-13T05:15:55.821113Z",
     "iopub.status.idle": "2024-04-13T05:15:55.828071Z",
     "shell.execute_reply": "2024-04-13T05:15:55.826791Z"
    },
    "papermill": {
     "duration": 0.025461,
     "end_time": "2024-04-13T05:15:55.830771",
     "exception": false,
     "start_time": "2024-04-13T05:15:55.805310",
     "status": "completed"
    },
    "tags": []
   },
   "outputs": [],
   "source": [
    "tfidf_vectorizer = TfidfVectorizer()"
   ]
  },
  {
   "cell_type": "code",
   "execution_count": 28,
   "id": "4a12e57b",
   "metadata": {
    "execution": {
     "iopub.execute_input": "2024-04-13T05:15:55.861888Z",
     "iopub.status.busy": "2024-04-13T05:15:55.861352Z",
     "iopub.status.idle": "2024-04-13T05:15:56.006530Z",
     "shell.execute_reply": "2024-04-13T05:15:56.005187Z"
    },
    "papermill": {
     "duration": 0.164256,
     "end_time": "2024-04-13T05:15:56.009953",
     "exception": false,
     "start_time": "2024-04-13T05:15:55.845697",
     "status": "completed"
    },
    "tags": []
   },
   "outputs": [],
   "source": [
    "tfidf_vectors = tfidf_vectorizer.fit_transform(songs['tags'])"
   ]
  },
  {
   "cell_type": "code",
   "execution_count": 29,
   "id": "661d50dd",
   "metadata": {
    "execution": {
     "iopub.execute_input": "2024-04-13T05:15:56.044018Z",
     "iopub.status.busy": "2024-04-13T05:15:56.043181Z",
     "iopub.status.idle": "2024-04-13T05:15:56.243351Z",
     "shell.execute_reply": "2024-04-13T05:15:56.242203Z"
    },
    "papermill": {
     "duration": 0.218354,
     "end_time": "2024-04-13T05:15:56.246242",
     "exception": false,
     "start_time": "2024-04-13T05:15:56.027888",
     "status": "completed"
    },
    "tags": []
   },
   "outputs": [],
   "source": [
    "tfidf_df = pd.DataFrame(tfidf_vectors.toarray(), columns=tfidf_vectorizer.get_feature_names_out())"
   ]
  },
  {
   "cell_type": "code",
   "execution_count": 30,
   "id": "802c17bc",
   "metadata": {
    "execution": {
     "iopub.execute_input": "2024-04-13T05:15:56.276667Z",
     "iopub.status.busy": "2024-04-13T05:15:56.275722Z",
     "iopub.status.idle": "2024-04-13T05:15:56.911735Z",
     "shell.execute_reply": "2024-04-13T05:15:56.910471Z"
    },
    "papermill": {
     "duration": 0.653746,
     "end_time": "2024-04-13T05:15:56.914386",
     "exception": false,
     "start_time": "2024-04-13T05:15:56.260640",
     "status": "completed"
    },
    "tags": []
   },
   "outputs": [],
   "source": [
    "songs = pd.concat([songs.reset_index(drop=True), tfidf_df], axis=1)"
   ]
  },
  {
   "cell_type": "code",
   "execution_count": 31,
   "id": "29e92447",
   "metadata": {
    "execution": {
     "iopub.execute_input": "2024-04-13T05:15:56.944374Z",
     "iopub.status.busy": "2024-04-13T05:15:56.943996Z",
     "iopub.status.idle": "2024-04-13T05:15:57.075380Z",
     "shell.execute_reply": "2024-04-13T05:15:57.074185Z"
    },
    "papermill": {
     "duration": 0.149693,
     "end_time": "2024-04-13T05:15:57.078597",
     "exception": false,
     "start_time": "2024-04-13T05:15:56.928904",
     "status": "completed"
    },
    "tags": []
   },
   "outputs": [],
   "source": [
    "songs.drop(columns=['tags'], inplace=True)"
   ]
  },
  {
   "cell_type": "code",
   "execution_count": 32,
   "id": "caf8ac9e",
   "metadata": {
    "execution": {
     "iopub.execute_input": "2024-04-13T05:15:57.108054Z",
     "iopub.status.busy": "2024-04-13T05:15:57.107639Z",
     "iopub.status.idle": "2024-04-13T05:15:57.142805Z",
     "shell.execute_reply": "2024-04-13T05:15:57.141506Z"
    },
    "papermill": {
     "duration": 0.053078,
     "end_time": "2024-04-13T05:15:57.145729",
     "exception": false,
     "start_time": "2024-04-13T05:15:57.092651",
     "status": "completed"
    },
    "tags": []
   },
   "outputs": [
    {
     "data": {
      "text/html": [
       "<div>\n",
       "<style scoped>\n",
       "    .dataframe tbody tr th:only-of-type {\n",
       "        vertical-align: middle;\n",
       "    }\n",
       "\n",
       "    .dataframe tbody tr th {\n",
       "        vertical-align: top;\n",
       "    }\n",
       "\n",
       "    .dataframe thead th {\n",
       "        text-align: right;\n",
       "    }\n",
       "</style>\n",
       "<table border=\"1\" class=\"dataframe\">\n",
       "  <thead>\n",
       "    <tr style=\"text-align: right;\">\n",
       "      <th></th>\n",
       "      <th>Track Name</th>\n",
       "      <th>Danceability</th>\n",
       "      <th>Energy</th>\n",
       "      <th>Acousticness</th>\n",
       "      <th>Instrumentalness</th>\n",
       "      <th>Liveness</th>\n",
       "      <th>Valence</th>\n",
       "      <th>Tempo</th>\n",
       "      <th>Time Signature</th>\n",
       "      <th>070shake</th>\n",
       "      <th>...</th>\n",
       "      <th>zeekpow</th>\n",
       "      <th>zendaya</th>\n",
       "      <th>zhané</th>\n",
       "      <th>zhu</th>\n",
       "      <th>zolo</th>\n",
       "      <th>zombien</th>\n",
       "      <th>zon</th>\n",
       "      <th>zouk</th>\n",
       "      <th>zoëbadwi</th>\n",
       "      <th>zztop</th>\n",
       "    </tr>\n",
       "  </thead>\n",
       "  <tbody>\n",
       "    <tr>\n",
       "      <th>0</th>\n",
       "      <td>Justified &amp; Ancient - Stand by the Jams</td>\n",
       "      <td>0.617</td>\n",
       "      <td>0.872</td>\n",
       "      <td>0.0158</td>\n",
       "      <td>0.112000</td>\n",
       "      <td>0.4080</td>\n",
       "      <td>0.504</td>\n",
       "      <td>111.458</td>\n",
       "      <td>4.0</td>\n",
       "      <td>0.0</td>\n",
       "      <td>...</td>\n",
       "      <td>0.0</td>\n",
       "      <td>0.0</td>\n",
       "      <td>0.0</td>\n",
       "      <td>0.0</td>\n",
       "      <td>0.0</td>\n",
       "      <td>0.0</td>\n",
       "      <td>0.0</td>\n",
       "      <td>0.0</td>\n",
       "      <td>0.0</td>\n",
       "      <td>0.0</td>\n",
       "    </tr>\n",
       "    <tr>\n",
       "      <th>1</th>\n",
       "      <td>I Know You Want Me (Calle Ocho)</td>\n",
       "      <td>0.825</td>\n",
       "      <td>0.743</td>\n",
       "      <td>0.0142</td>\n",
       "      <td>0.000021</td>\n",
       "      <td>0.2370</td>\n",
       "      <td>0.800</td>\n",
       "      <td>127.045</td>\n",
       "      <td>4.0</td>\n",
       "      <td>0.0</td>\n",
       "      <td>...</td>\n",
       "      <td>0.0</td>\n",
       "      <td>0.0</td>\n",
       "      <td>0.0</td>\n",
       "      <td>0.0</td>\n",
       "      <td>0.0</td>\n",
       "      <td>0.0</td>\n",
       "      <td>0.0</td>\n",
       "      <td>0.0</td>\n",
       "      <td>0.0</td>\n",
       "      <td>0.0</td>\n",
       "    </tr>\n",
       "    <tr>\n",
       "      <th>2</th>\n",
       "      <td>From the Bottom of My Broken Heart</td>\n",
       "      <td>0.677</td>\n",
       "      <td>0.665</td>\n",
       "      <td>0.5600</td>\n",
       "      <td>0.000001</td>\n",
       "      <td>0.3380</td>\n",
       "      <td>0.706</td>\n",
       "      <td>74.981</td>\n",
       "      <td>4.0</td>\n",
       "      <td>0.0</td>\n",
       "      <td>...</td>\n",
       "      <td>0.0</td>\n",
       "      <td>0.0</td>\n",
       "      <td>0.0</td>\n",
       "      <td>0.0</td>\n",
       "      <td>0.0</td>\n",
       "      <td>0.0</td>\n",
       "      <td>0.0</td>\n",
       "      <td>0.0</td>\n",
       "      <td>0.0</td>\n",
       "      <td>0.0</td>\n",
       "    </tr>\n",
       "    <tr>\n",
       "      <th>3</th>\n",
       "      <td>Apeman - 2014 Remastered Version</td>\n",
       "      <td>0.683</td>\n",
       "      <td>0.728</td>\n",
       "      <td>0.5680</td>\n",
       "      <td>0.000051</td>\n",
       "      <td>0.0384</td>\n",
       "      <td>0.833</td>\n",
       "      <td>75.311</td>\n",
       "      <td>4.0</td>\n",
       "      <td>0.0</td>\n",
       "      <td>...</td>\n",
       "      <td>0.0</td>\n",
       "      <td>0.0</td>\n",
       "      <td>0.0</td>\n",
       "      <td>0.0</td>\n",
       "      <td>0.0</td>\n",
       "      <td>0.0</td>\n",
       "      <td>0.0</td>\n",
       "      <td>0.0</td>\n",
       "      <td>0.0</td>\n",
       "      <td>0.0</td>\n",
       "    </tr>\n",
       "    <tr>\n",
       "      <th>4</th>\n",
       "      <td>You Can't Always Get What You Want</td>\n",
       "      <td>0.319</td>\n",
       "      <td>0.627</td>\n",
       "      <td>0.6750</td>\n",
       "      <td>0.000073</td>\n",
       "      <td>0.2890</td>\n",
       "      <td>0.497</td>\n",
       "      <td>85.818</td>\n",
       "      <td>4.0</td>\n",
       "      <td>0.0</td>\n",
       "      <td>...</td>\n",
       "      <td>0.0</td>\n",
       "      <td>0.0</td>\n",
       "      <td>0.0</td>\n",
       "      <td>0.0</td>\n",
       "      <td>0.0</td>\n",
       "      <td>0.0</td>\n",
       "      <td>0.0</td>\n",
       "      <td>0.0</td>\n",
       "      <td>0.0</td>\n",
       "      <td>0.0</td>\n",
       "    </tr>\n",
       "  </tbody>\n",
       "</table>\n",
       "<p>5 rows × 4492 columns</p>\n",
       "</div>"
      ],
      "text/plain": [
       "                                Track Name  Danceability  Energy  \\\n",
       "0  Justified & Ancient - Stand by the Jams         0.617   0.872   \n",
       "1          I Know You Want Me (Calle Ocho)         0.825   0.743   \n",
       "2       From the Bottom of My Broken Heart         0.677   0.665   \n",
       "3         Apeman - 2014 Remastered Version         0.683   0.728   \n",
       "4       You Can't Always Get What You Want         0.319   0.627   \n",
       "\n",
       "   Acousticness  Instrumentalness  Liveness  Valence    Tempo  Time Signature  \\\n",
       "0        0.0158          0.112000    0.4080    0.504  111.458             4.0   \n",
       "1        0.0142          0.000021    0.2370    0.800  127.045             4.0   \n",
       "2        0.5600          0.000001    0.3380    0.706   74.981             4.0   \n",
       "3        0.5680          0.000051    0.0384    0.833   75.311             4.0   \n",
       "4        0.6750          0.000073    0.2890    0.497   85.818             4.0   \n",
       "\n",
       "   070shake  ...  zeekpow  zendaya  zhané  zhu  zolo  zombien  zon  zouk  \\\n",
       "0       0.0  ...      0.0      0.0    0.0  0.0   0.0      0.0  0.0   0.0   \n",
       "1       0.0  ...      0.0      0.0    0.0  0.0   0.0      0.0  0.0   0.0   \n",
       "2       0.0  ...      0.0      0.0    0.0  0.0   0.0      0.0  0.0   0.0   \n",
       "3       0.0  ...      0.0      0.0    0.0  0.0   0.0      0.0  0.0   0.0   \n",
       "4       0.0  ...      0.0      0.0    0.0  0.0   0.0      0.0  0.0   0.0   \n",
       "\n",
       "   zoëbadwi  zztop  \n",
       "0       0.0    0.0  \n",
       "1       0.0    0.0  \n",
       "2       0.0    0.0  \n",
       "3       0.0    0.0  \n",
       "4       0.0    0.0  \n",
       "\n",
       "[5 rows x 4492 columns]"
      ]
     },
     "execution_count": 32,
     "metadata": {},
     "output_type": "execute_result"
    }
   ],
   "source": [
    "songs.head()"
   ]
  },
  {
   "cell_type": "code",
   "execution_count": 33,
   "id": "e7a5ca41",
   "metadata": {
    "execution": {
     "iopub.execute_input": "2024-04-13T05:15:57.175930Z",
     "iopub.status.busy": "2024-04-13T05:15:57.175539Z",
     "iopub.status.idle": "2024-04-13T05:15:57.181170Z",
     "shell.execute_reply": "2024-04-13T05:15:57.179909Z"
    },
    "papermill": {
     "duration": 0.023633,
     "end_time": "2024-04-13T05:15:57.183733",
     "exception": false,
     "start_time": "2024-04-13T05:15:57.160100",
     "status": "completed"
    },
    "tags": []
   },
   "outputs": [],
   "source": [
    "from sklearn.metrics.pairwise import cosine_similarity"
   ]
  },
  {
   "cell_type": "code",
   "execution_count": 34,
   "id": "8e8e2a06",
   "metadata": {
    "execution": {
     "iopub.execute_input": "2024-04-13T05:15:57.215662Z",
     "iopub.status.busy": "2024-04-13T05:15:57.215034Z",
     "iopub.status.idle": "2024-04-13T05:15:57.222662Z",
     "shell.execute_reply": "2024-04-13T05:15:57.221607Z"
    },
    "papermill": {
     "duration": 0.027341,
     "end_time": "2024-04-13T05:15:57.225344",
     "exception": false,
     "start_time": "2024-04-13T05:15:57.198003",
     "status": "completed"
    },
    "tags": []
   },
   "outputs": [],
   "source": [
    "def recommend(song_name):\n",
    "    song_index = songs[songs['Track Name'] == song_name].index[0]\n",
    "    \n",
    "    songs_list = songs.drop(columns=['Track Name'])\n",
    "    \n",
    "    similarities = cosine_similarity(songs_list)\n",
    "    \n",
    "    similar_songs_indices = similarities[song_index].argsort()[::-1][1:6]\n",
    "\n",
    "    print(\"Top 5 recommended songs similar to\", song_name, \":\")\n",
    "    for index in similar_songs_indices:\n",
    "        print(songs.iloc[index]['Track Name'])"
   ]
  },
  {
   "cell_type": "code",
   "execution_count": 35,
   "id": "b1c374a1",
   "metadata": {
    "execution": {
     "iopub.execute_input": "2024-04-13T05:15:57.255468Z",
     "iopub.status.busy": "2024-04-13T05:15:57.255058Z",
     "iopub.status.idle": "2024-04-13T05:16:02.935866Z",
     "shell.execute_reply": "2024-04-13T05:16:02.934601Z"
    },
    "papermill": {
     "duration": 5.698822,
     "end_time": "2024-04-13T05:16:02.938486",
     "exception": false,
     "start_time": "2024-04-13T05:15:57.239664",
     "status": "completed"
    },
    "tags": []
   },
   "outputs": [
    {
     "name": "stdout",
     "output_type": "stream",
     "text": [
      "Top 5 recommended songs similar to You Belong With Me :\n",
      "Look What You Made Me Do\n",
      "Mr. Perfectly Fine (Taylor’s Version) (From The Vault)\n",
      "Eyes Open\n",
      "Love Story (Taylor’s Version)\n",
      "Wildest Dreams\n"
     ]
    }
   ],
   "source": [
    "recommend('You Belong With Me')"
   ]
  }
 ],
 "metadata": {
  "kaggle": {
   "accelerator": "none",
   "dataSources": [
    {
     "datasetId": 3556576,
     "sourceId": 6195485,
     "sourceType": "datasetVersion"
    }
   ],
   "dockerImageVersionId": 30673,
   "isGpuEnabled": false,
   "isInternetEnabled": true,
   "language": "python",
   "sourceType": "notebook"
  },
  "kernelspec": {
   "display_name": "Python 3",
   "language": "python",
   "name": "python3"
  },
  "language_info": {
   "codemirror_mode": {
    "name": "ipython",
    "version": 3
   },
   "file_extension": ".py",
   "mimetype": "text/x-python",
   "name": "python",
   "nbconvert_exporter": "python",
   "pygments_lexer": "ipython3",
   "version": "3.10.13"
  },
  "papermill": {
   "default_parameters": {},
   "duration": 16.796623,
   "end_time": "2024-04-13T05:16:03.675889",
   "environment_variables": {},
   "exception": null,
   "input_path": "__notebook__.ipynb",
   "output_path": "__notebook__.ipynb",
   "parameters": {},
   "start_time": "2024-04-13T05:15:46.879266",
   "version": "2.5.0"
  }
 },
 "nbformat": 4,
 "nbformat_minor": 5
}
